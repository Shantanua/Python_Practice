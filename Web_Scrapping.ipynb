{
 "cells": [
  {
   "cell_type": "code",
   "execution_count": 208,
   "metadata": {
    "collapsed": false
   },
   "outputs": [],
   "source": [
    "import sys\n",
    "import os\n",
    "import urllib2\n",
    "from bs4 import BeautifulSoup\n",
    "import urllib\n",
    "import ntpath\n",
    "\n",
    "\n",
    "data_path = 'C:/Users/shant/Desktop/Python_Practice'\n",
    "\n",
    "url = 'http://www.ncdc.noaa.gov'\n",
    "\n",
    "index = '/qclcd/QCLCD?prior=N'\n",
    "\n",
    "link = url + index\n",
    "    \n",
    "page = urllib2.urlopen(link)\n",
    "\n",
    "soup = BeautifulSoup(page)\n",
    "\n",
    "all_links = soup.find_all('a')\n",
    "\n",
    "req_links = []\n",
    "\n",
    "for links in all_links:\n",
    "    href_all_links = links.get('href')\n",
    "    try:\n",
    "        if re.search('.*ascii.*', href_all_links).group() != 'None':\n",
    "            req_links.append(re.search('.*ascii.*', href_all_links).group())\n",
    "    except:\n",
    "        continue\n",
    "    \n",
    "    \n",
    "for i in range(len(req_links)):\n",
    "    url = 'http://www.ncdc.noaa.gov' + req_links[i]\n",
    "    filename = ntpath.basename(req_links[i])\n",
    "    read_csv_file(url, filename)        "
   ]
  },
  {
   "cell_type": "code",
   "execution_count": 205,
   "metadata": {
    "collapsed": false
   },
   "outputs": [],
   "source": [
    "def read_csv_file(link, filename):\n",
    "    import urllib\n",
    "    import csv\n",
    "    import os\n",
    "\n",
    "    f = urllib.urlopen(link)\n",
    "    myfile = f.read()\n",
    "\n",
    "    csv_write = open(filename + '.csv', 'wb')\n",
    "    other_write = open(filename + '.meta', 'wb')\n",
    "    junk = open(filename + '.junk', 'wb')\n",
    "\n",
    "\n",
    "\n",
    "    for line in myfile.splitlines():\n",
    "        if ':' in line:\n",
    "            other_write.write(line + os.linesep)\n",
    "        elif ',' in line:\n",
    "            csv_write.write(line + os.linesep)\n",
    "        else:\n",
    "            junk.write(line + os.linesep)\n",
    "\n",
    "    csv_write.close()\n",
    "    other_write.close()\n",
    "    junk.close()"
   ]
  },
  {
   "cell_type": "code",
   "execution_count": null,
   "metadata": {
    "collapsed": true
   },
   "outputs": [],
   "source": []
  }
 ],
 "metadata": {
  "kernelspec": {
   "display_name": "Python 2",
   "language": "python",
   "name": "python2"
  },
  "language_info": {
   "codemirror_mode": {
    "name": "ipython",
    "version": 2
   },
   "file_extension": ".py",
   "mimetype": "text/x-python",
   "name": "python",
   "nbconvert_exporter": "python",
   "pygments_lexer": "ipython2",
   "version": "2.7.11"
  }
 },
 "nbformat": 4,
 "nbformat_minor": 0
}
